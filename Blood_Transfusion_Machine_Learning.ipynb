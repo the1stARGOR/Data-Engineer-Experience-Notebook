{
  "nbformat": 4,
  "nbformat_minor": 0,
  "metadata": {
    "colab": {
      "provenance": []
    },
    "kernelspec": {
      "name": "python3",
      "display_name": "Python 3"
    },
    "language_info": {
      "name": "python"
    }
  },
  "cells": [
    {
      "cell_type": "markdown",
      "source": [
        "# Machine Learning\n",
        "###Sreerag Cheeroth\n",
        "\n",
        "[Blood Transfusion Service Center](https://www.openml.org/search?type=data&sort=runs&id=1464&status=active)  Dataset\n",
        "\n",
        "Attribute Information\n",
        "\n",
        "* V1: Recency - months since last donation\n",
        "\n",
        "* V2: Frequency - total number of donation\n",
        "\n",
        "* V3: Monetary - total blood donated in c.c.\n",
        "\n",
        "* V4: Time - months since first donation), and a binary variable representing whether he/she donated blood in March 2007 (1 stand for donating blood; 0 stands for not donating blood).\n",
        "\n",
        "The target attribute is a binary variable representing whether he/she donated blood in March 2007\n",
        "\n",
        "* 2 stands for donating blood\n",
        "\n",
        "* 1 stands for not donating blood).\n",
        "\n",
        "\n",
        "\n"
      ],
      "metadata": {
        "id": "zQlL4cnC4doH"
      }
    },
    {
      "cell_type": "code",
      "source": [
        "from sklearn.datasets import fetch_openml\n",
        "\n",
        "everything = fetch_openml(data_id=1464)"
      ],
      "metadata": {
        "id": "KFUMIFKo7T6V"
      },
      "execution_count": null,
      "outputs": []
    },
    {
      "cell_type": "code",
      "source": [
        "type(everything)\n",
        "print(everything.DESCR)\n",
        "print(everything.details)\n",
        "everything.keys()"
      ],
      "metadata": {
        "colab": {
          "base_uri": "https://localhost:8080/"
        },
        "id": "Sn4uEza38dxM",
        "outputId": "d695966b-30cd-4269-e309-87ea3271abae"
      },
      "execution_count": null,
      "outputs": [
        {
          "output_type": "stream",
          "name": "stdout",
          "text": [
            "**Author**: Prof. I-Cheng Yeh  \n",
            "**Source**: [UCI](https://archive.ics.uci.edu/ml/datasets/Blood+Transfusion+Service+Center)  \n",
            "**Please cite**: Yeh, I-Cheng, Yang, King-Jang, and Ting, Tao-Ming, \"Knowledge discovery on RFM model using Bernoulli sequence\", Expert Systems with Applications, 2008.   \n",
            "\n",
            "**Blood Transfusion Service Center Data Set**  \n",
            "Data taken from the Blood Transfusion Service Center in Hsin-Chu City in Taiwan -- this is a classification problem.\n",
            "\n",
            "To demonstrate the RFMTC marketing model (a modified version of RFM), this study adopted the donor database of Blood Transfusion Service Center in Hsin-Chu City in Taiwan. The center passes their blood transfusion service bus to one university in Hsin-Chu City to gather blood donated about every three months. To build an FRMTC model, we selected 748 donors at random from the donor database. \n",
            "\n",
            "### Attribute Information  \n",
            "* V1: Recency - months since last donation\n",
            "* V2: Frequency - total number of donation\n",
            "* V3: Monetary - total blood donated in c.c.\n",
            "* V4: Time - months since first donation), and a binary variable representing whether he/she donated blood in March 2007 (1 stand for donating blood; 0 stands for not donating blood).\n",
            "\n",
            "The target attribute is a binary variable representing whether he/she donated blood in March 2007 (2 stands for donating blood; 1 stands for not donating blood).\n",
            "\n",
            "Downloaded from openml.org.\n",
            "{'id': '1464', 'name': 'blood-transfusion-service-center', 'version': '1', 'description_version': '3', 'format': 'ARFF', 'creator': [], 'upload_date': '2015-05-21T22:49:48', 'licence': 'Public', 'url': 'https://api.openml.org/data/v1/download/1586225/blood-transfusion-service-center.arff', 'parquet_url': 'http://openml1.win.tue.nl/dataset1464/dataset_1464.pq', 'file_id': '1586225', 'default_target_attribute': 'Class', 'tag': ['OpenML-CC18', 'OpenML100', 'study_123', 'study_135', 'study_14', 'study_218', 'study_34', 'study_50', 'study_52', 'study_7', 'study_98', 'study_99', 'uci'], 'visibility': 'public', 'original_data_url': 'https://archive.ics.uci.edu/ml/datasets/Blood+Transfusion+Service+Center', 'minio_url': 'http://openml1.win.tue.nl/dataset1464/dataset_1464.pq', 'status': 'active', 'processing_date': '2020-11-20 21:51:00', 'md5_checksum': 'c3242468edab8c2e7a907674122dc851'}\n"
          ]
        },
        {
          "output_type": "execute_result",
          "data": {
            "text/plain": [
              "dict_keys(['data', 'target', 'frame', 'categories', 'feature_names', 'target_names', 'DESCR', 'details', 'url'])"
            ]
          },
          "metadata": {},
          "execution_count": 6
        }
      ]
    },
    {
      "cell_type": "code",
      "source": [
        "from sklearn.datasets import fetch_openml\n",
        "\n",
        "data, target = fetch_openml(data_id=1464, return_X_y=True)"
      ],
      "metadata": {
        "id": "sNiYZLS__NTp"
      },
      "execution_count": null,
      "outputs": []
    },
    {
      "cell_type": "code",
      "source": [
        "print(type(data))\n",
        "print(data.size)\n",
        "print(data.shape)\n",
        "print(target.dtypes)\n",
        "print(target.isna().sum())"
      ],
      "metadata": {
        "colab": {
          "base_uri": "https://localhost:8080/"
        },
        "id": "0iDcmLvd_dHm",
        "outputId": "2d3e63df-865e-4fd8-e8ac-e2c5c10f60b1"
      },
      "execution_count": null,
      "outputs": [
        {
          "output_type": "stream",
          "name": "stdout",
          "text": [
            "<class 'pandas.core.frame.DataFrame'>\n",
            "2992\n",
            "(748, 4)\n",
            "category\n",
            "0\n"
          ]
        }
      ]
    },
    {
      "cell_type": "code",
      "source": [
        "data.corr()"
      ],
      "metadata": {
        "colab": {
          "base_uri": "https://localhost:8080/",
          "height": 175
        },
        "id": "LylVirhXCeDy",
        "outputId": "d21806b1-a8af-487a-d68f-a66fd81340fe"
      },
      "execution_count": null,
      "outputs": [
        {
          "output_type": "execute_result",
          "data": {
            "text/plain": [
              "          V1        V2        V3        V4\n",
              "V1  1.000000 -0.182745 -0.182745  0.160618\n",
              "V2 -0.182745  1.000000  1.000000  0.634940\n",
              "V3 -0.182745  1.000000  1.000000  0.634940\n",
              "V4  0.160618  0.634940  0.634940  1.000000"
            ],
            "text/html": [
              "\n",
              "  <div id=\"df-b70413dc-b3b6-460a-8f20-3a59bc973d8f\">\n",
              "    <div class=\"colab-df-container\">\n",
              "      <div>\n",
              "<style scoped>\n",
              "    .dataframe tbody tr th:only-of-type {\n",
              "        vertical-align: middle;\n",
              "    }\n",
              "\n",
              "    .dataframe tbody tr th {\n",
              "        vertical-align: top;\n",
              "    }\n",
              "\n",
              "    .dataframe thead th {\n",
              "        text-align: right;\n",
              "    }\n",
              "</style>\n",
              "<table border=\"1\" class=\"dataframe\">\n",
              "  <thead>\n",
              "    <tr style=\"text-align: right;\">\n",
              "      <th></th>\n",
              "      <th>V1</th>\n",
              "      <th>V2</th>\n",
              "      <th>V3</th>\n",
              "      <th>V4</th>\n",
              "    </tr>\n",
              "  </thead>\n",
              "  <tbody>\n",
              "    <tr>\n",
              "      <th>V1</th>\n",
              "      <td>1.000000</td>\n",
              "      <td>-0.182745</td>\n",
              "      <td>-0.182745</td>\n",
              "      <td>0.160618</td>\n",
              "    </tr>\n",
              "    <tr>\n",
              "      <th>V2</th>\n",
              "      <td>-0.182745</td>\n",
              "      <td>1.000000</td>\n",
              "      <td>1.000000</td>\n",
              "      <td>0.634940</td>\n",
              "    </tr>\n",
              "    <tr>\n",
              "      <th>V3</th>\n",
              "      <td>-0.182745</td>\n",
              "      <td>1.000000</td>\n",
              "      <td>1.000000</td>\n",
              "      <td>0.634940</td>\n",
              "    </tr>\n",
              "    <tr>\n",
              "      <th>V4</th>\n",
              "      <td>0.160618</td>\n",
              "      <td>0.634940</td>\n",
              "      <td>0.634940</td>\n",
              "      <td>1.000000</td>\n",
              "    </tr>\n",
              "  </tbody>\n",
              "</table>\n",
              "</div>\n",
              "      <button class=\"colab-df-convert\" onclick=\"convertToInteractive('df-b70413dc-b3b6-460a-8f20-3a59bc973d8f')\"\n",
              "              title=\"Convert this dataframe to an interactive table.\"\n",
              "              style=\"display:none;\">\n",
              "        \n",
              "  <svg xmlns=\"http://www.w3.org/2000/svg\" height=\"24px\"viewBox=\"0 0 24 24\"\n",
              "       width=\"24px\">\n",
              "    <path d=\"M0 0h24v24H0V0z\" fill=\"none\"/>\n",
              "    <path d=\"M18.56 5.44l.94 2.06.94-2.06 2.06-.94-2.06-.94-.94-2.06-.94 2.06-2.06.94zm-11 1L8.5 8.5l.94-2.06 2.06-.94-2.06-.94L8.5 2.5l-.94 2.06-2.06.94zm10 10l.94 2.06.94-2.06 2.06-.94-2.06-.94-.94-2.06-.94 2.06-2.06.94z\"/><path d=\"M17.41 7.96l-1.37-1.37c-.4-.4-.92-.59-1.43-.59-.52 0-1.04.2-1.43.59L10.3 9.45l-7.72 7.72c-.78.78-.78 2.05 0 2.83L4 21.41c.39.39.9.59 1.41.59.51 0 1.02-.2 1.41-.59l7.78-7.78 2.81-2.81c.8-.78.8-2.07 0-2.86zM5.41 20L4 18.59l7.72-7.72 1.47 1.35L5.41 20z\"/>\n",
              "  </svg>\n",
              "      </button>\n",
              "      \n",
              "  <style>\n",
              "    .colab-df-container {\n",
              "      display:flex;\n",
              "      flex-wrap:wrap;\n",
              "      gap: 12px;\n",
              "    }\n",
              "\n",
              "    .colab-df-convert {\n",
              "      background-color: #E8F0FE;\n",
              "      border: none;\n",
              "      border-radius: 50%;\n",
              "      cursor: pointer;\n",
              "      display: none;\n",
              "      fill: #1967D2;\n",
              "      height: 32px;\n",
              "      padding: 0 0 0 0;\n",
              "      width: 32px;\n",
              "    }\n",
              "\n",
              "    .colab-df-convert:hover {\n",
              "      background-color: #E2EBFA;\n",
              "      box-shadow: 0px 1px 2px rgba(60, 64, 67, 0.3), 0px 1px 3px 1px rgba(60, 64, 67, 0.15);\n",
              "      fill: #174EA6;\n",
              "    }\n",
              "\n",
              "    [theme=dark] .colab-df-convert {\n",
              "      background-color: #3B4455;\n",
              "      fill: #D2E3FC;\n",
              "    }\n",
              "\n",
              "    [theme=dark] .colab-df-convert:hover {\n",
              "      background-color: #434B5C;\n",
              "      box-shadow: 0px 1px 3px 1px rgba(0, 0, 0, 0.15);\n",
              "      filter: drop-shadow(0px 1px 2px rgba(0, 0, 0, 0.3));\n",
              "      fill: #FFFFFF;\n",
              "    }\n",
              "  </style>\n",
              "\n",
              "      <script>\n",
              "        const buttonEl =\n",
              "          document.querySelector('#df-b70413dc-b3b6-460a-8f20-3a59bc973d8f button.colab-df-convert');\n",
              "        buttonEl.style.display =\n",
              "          google.colab.kernel.accessAllowed ? 'block' : 'none';\n",
              "\n",
              "        async function convertToInteractive(key) {\n",
              "          const element = document.querySelector('#df-b70413dc-b3b6-460a-8f20-3a59bc973d8f');\n",
              "          const dataTable =\n",
              "            await google.colab.kernel.invokeFunction('convertToInteractive',\n",
              "                                                     [key], {});\n",
              "          if (!dataTable) return;\n",
              "\n",
              "          const docLinkHtml = 'Like what you see? Visit the ' +\n",
              "            '<a target=\"_blank\" href=https://colab.research.google.com/notebooks/data_table.ipynb>data table notebook</a>'\n",
              "            + ' to learn more about interactive tables.';\n",
              "          element.innerHTML = '';\n",
              "          dataTable['output_type'] = 'display_data';\n",
              "          await google.colab.output.renderOutput(dataTable, element);\n",
              "          const docLink = document.createElement('div');\n",
              "          docLink.innerHTML = docLinkHtml;\n",
              "          element.appendChild(docLink);\n",
              "        }\n",
              "      </script>\n",
              "    </div>\n",
              "  </div>\n",
              "  "
            ]
          },
          "metadata": {},
          "execution_count": 10
        }
      ]
    },
    {
      "cell_type": "code",
      "source": [
        "from seaborn import heatmap\n",
        "\n",
        "corr_map = heatmap(data.corr(), annot=True, cmap='rainbow')\n",
        "corr_map.xaxis.tick_top()"
      ],
      "metadata": {
        "colab": {
          "base_uri": "https://localhost:8080/",
          "height": 265
        },
        "id": "gteMn_-GEo70",
        "outputId": "92a3804c-67ff-42f1-aeea-3e04580d7c16"
      },
      "execution_count": null,
      "outputs": [
        {
          "output_type": "display_data",
          "data": {
            "text/plain": [
              "<Figure size 432x288 with 2 Axes>"
            ],
            "image/png": "[encoded data removed]"
          },
          "metadata": {
            "needs_background": "light"
          }
        }
      ]
    },
    {
      "cell_type": "code",
      "source": [
        "corr_map.xaxis.tick_top()"
      ],
      "metadata": {
        "id": "bHRTNoqFEUM1"
      },
      "execution_count": null,
      "outputs": []
    },
    {
      "cell_type": "code",
      "source": [
        "from sklearn.model_selection import train_test_split\n",
        "data_train, data_test, target_train, target_test = train_test_split(data, target)\n",
        "data_train.shape, data_test.shape, target_train.shape, target_test.shape"
      ],
      "metadata": {
        "colab": {
          "base_uri": "https://localhost:8080/"
        },
        "id": "VUhdDulmEbB7",
        "outputId": "887dd318-7560-4002-8546-5ffe940c29a4"
      },
      "execution_count": null,
      "outputs": [
        {
          "output_type": "execute_result",
          "data": {
            "text/plain": [
              "((561, 4), (187, 4), (561,), (187,))"
            ]
          },
          "metadata": {},
          "execution_count": 16
        }
      ]
    },
    {
      "cell_type": "code",
      "source": [
        "from sklearn.neighbors import KNeighborsClassifier\n",
        "\n",
        "knn= KNeighborsClassifier(n_neighbors=1)\n",
        "knn.fit(data_train, target_train)\n",
        "knn.score(data_train, target_train)"
      ],
      "metadata": {
        "colab": {
          "base_uri": "https://localhost:8080/"
        },
        "id": "CUIRmM2gFthd",
        "outputId": "6243df99-7465-4edc-f5f1-3c10cc44fda3"
      },
      "execution_count": null,
      "outputs": [
        {
          "output_type": "execute_result",
          "data": {
            "text/plain": [
              "0.9269162210338681"
            ]
          },
          "metadata": {},
          "execution_count": 21
        }
      ]
    },
    {
      "cell_type": "code",
      "source": [
        "from sklearn.metrics import confusion_matrix\n",
        "from sklearn.metrics import ConfusionMatrixDisplay\n",
        "\n",
        "#pred_test = knn(data_test)\n",
        "pred = knn.predict(data)\n",
        "conf_mat = confusion_matrix(target, pred)\n",
        "print(conf_mat)\n",
        "ConfusionMatrixDisplay(conf_mat).plot()"
      ],
      "metadata": {
        "colab": {
          "base_uri": "https://localhost:8080/",
          "height": 331
        },
        "id": "VCpEuMeQG4x8",
        "outputId": "3fa4fae4-a140-4ecb-9603-8a33124f8d54"
      },
      "execution_count": null,
      "outputs": [
        {
          "output_type": "stream",
          "name": "stdout",
          "text": [
            "[[522  48]\n",
            " [ 50 128]]\n"
          ]
        },
        {
          "output_type": "execute_result",
          "data": {
            "text/plain": [
              "<sklearn.metrics._plot.confusion_matrix.ConfusionMatrixDisplay at 0x7fe81f5d86a0>"
            ]
          },
          "metadata": {},
          "execution_count": 25
        },
        {
          "output_type": "display_data",
          "data": {
            "text/plain": [
              "<Figure size 432x288 with 2 Axes>"
            ],
            "image/png": "[encoded data removed]"
          },
          "metadata": {
            "needs_background": "light"
          }
        }
      ]
    },
    {
      "cell_type": "markdown",
      "source": [
        "#**Model Performance:**\n",
        "##The model achieved a high number of true negatives (522) and true positives (128), indicating a strong ability to correctly classify both classes. However, there are a considerable number of false positives (48) and false negatives (50), suggesting some room for improvement, especially in reducing these errors.\n",
        "\n",
        "#**Accuracy and Error Analysis:**\n",
        "##The accuracy can be calculated as (True Positives + True Negatives) / Total Predictions, which in this case is (522 + 128) / 748 ≈ 0.8697, or approximately 86.97%. While this is a decent accuracy rate, the nearly 100 misclassifications point towards potential areas where the model might be improved, possibly through parameter tuning or by using a different algorithm.\n",
        "\n",
        "#**Sensitivity and Specificity:**\n",
        "##Sensitivity (Recall) for detecting positive cases is 128 / (128 + 50) ≈ 0.7191, or about 71.91%. This indicates the model's ability to correctly identify positive cases.\n",
        "##Specificity for detecting negative cases is 522 / (522 + 48) ≈ 0.9157, or about 91.57%, which is quite high.\n",
        "#**Implications for Medical Decisions:**\n",
        "##In the context of blood transfusions, having a high specificity is crucial because it minimizes the risk of falsely identifying patients as needing a transfusion when they do not, which can avoid unnecessary medical procedures and associated risks. However, improving sensitivity is also important to ensure that all patients who truly need a transfusion receive one."
      ],
      "metadata": {
        "id": "3v0XN5YCJ-oh"
      }
    }
  ]
}