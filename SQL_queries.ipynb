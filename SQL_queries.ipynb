{
  "cells": [
    {
      "cell_type": "code",
      "source": [
        "%sql\n",
        "SELECT*\n",
        "FROM hw4_product_3_json"
      ],
      "metadata": {
        "application/vnd.databricks.v1+cell": {
          "showTitle": false,
          "cellMetadata": {
            "rowLimit": 10000,
            "byteLimit": 2048000,
            "implicitDf": true
          },
          "nuid": "e19cdbd0-cb52-47dc-9f69-66fc54621587",
          "inputWidgets": {},
          "title": ""
        },
        "id": "tRvvzTGrhETc",
        "outputId": "5801c513-8323-4a04-dc45-2df0818bed6e"
      },
      "outputs": [
        {
          "output_type": "display_data",
          "metadata": {
            "application/vnd.databricks.v1+output": {
              "overflow": false,
              "datasetInfos": [],
              "data": [
                [
                  "Cherry End Table",
                  "Cherry",
                  1,
                  1,
                  175
                ],
                [
                  "Birch Coffee Tables",
                  "Birch",
                  2,
                  1,
                  200
                ],
                [
                  "Oak Computer Desk",
                  "Oak",
                  3,
                  1,
                  750
                ],
                [
                  "Entertainment Center",
                  "Cherry",
                  4,
                  1,
                  1650
                ],
                [
                  "Writer's Desk",
                  "Oak",
                  5,
                  2,
                  325
                ],
                [
                  "8-Drawer Dresser",
                  "Birch",
                  6,
                  1,
                  750
                ],
                [
                  "48 Bookcase",
                  "Walnut",
                  7,
                  3,
                  150
                ],
                [
                  "48 Bookcase",
                  "Oak",
                  8,
                  3,
                  175
                ],
                [
                  "96 Bookcase",
                  "Walnut",
                  9,
                  3,
                  225
                ],
                [
                  "96 Bookcase",
                  "Oak",
                  10,
                  3,
                  200
                ],
                [
                  "4-Drawer Dresser",
                  "Oak",
                  11,
                  1,
                  500
                ],
                [
                  "8-Drawer Dresser",
                  "Oak",
                  12,
                  1,
                  800
                ],
                [
                  "Nightstand",
                  "Cherry",
                  13,
                  1,
                  150
                ],
                [
                  "Writer's Desk",
                  "Birch",
                  14,
                  2,
                  300
                ],
                [
                  "High Back Leather Chair",
                  "Leather",
                  17,
                  3,
                  362
                ],
                [
                  "6' Grandfather Clock",
                  "Oak",
                  18,
                  4,
                  890
                ],
                [
                  "7' Grandfather Clock",
                  "Oak",
                  19,
                  4,
                  1100
                ],
                [
                  "Amoire",
                  "Walnut",
                  20,
                  2,
                  1200
                ],
                [
                  "Pine End Table",
                  "Pine",
                  21,
                  1,
                  256
                ]
              ],
              "plotOptions": {
                "displayType": "table",
                "customPlotOptions": {},
                "pivotColumns": null,
                "pivotAggregation": null,
                "xColumns": null,
                "yColumns": null
              },
              "columnCustomDisplayInfos": {},
              "aggType": "",
              "isJsonSchema": true,
              "removedWidgets": [],
              "aggSchema": [],
              "schema": [
                {
                  "name": "productDescription",
                  "type": "\"string\"",
                  "metadata": "{}"
                },
                {
                  "name": "productFinish",
                  "type": "\"string\"",
                  "metadata": "{}"
                },
                {
                  "name": "productID",
                  "type": "\"long\"",
                  "metadata": "{}"
                },
                {
                  "name": "productLineID",
                  "type": "\"long\"",
                  "metadata": "{}"
                },
                {
                  "name": "productStandardPrice",
                  "type": "\"long\"",
                  "metadata": "{}"
                }
              ],
              "aggError": "",
              "aggData": [],
              "addedWidgets": {},
              "metadata": {},
              "dbfsResultPath": null,
              "type": "table",
              "aggOverflow": false,
              "aggSeriesLimitReached": false,
              "arguments": {}
            }
          },
          "data": {
            "text/html": [
              "<style scoped>\n",
              "  .table-result-container {\n",
              "    max-height: 300px;\n",
              "    overflow: auto;\n",
              "  }\n",
              "  table, th, td {\n",
              "    border: 1px solid black;\n",
              "    border-collapse: collapse;\n",
              "  }\n",
              "  th, td {\n",
              "    padding: 5px;\n",
              "  }\n",
              "  th {\n",
              "    text-align: left;\n",
              "  }\n",
              "</style><div class='table-result-container'><table class='table-result'><thead style='background-color: white'><tr><th>productDescription</th><th>productFinish</th><th>productID</th><th>productLineID</th><th>productStandardPrice</th></tr></thead><tbody><tr><td>Cherry End Table</td><td>Cherry</td><td>1</td><td>1</td><td>175</td></tr><tr><td>Birch Coffee Tables</td><td>Birch</td><td>2</td><td>1</td><td>200</td></tr><tr><td>Oak Computer Desk</td><td>Oak</td><td>3</td><td>1</td><td>750</td></tr><tr><td>Entertainment Center</td><td>Cherry</td><td>4</td><td>1</td><td>1650</td></tr><tr><td>Writer's Desk</td><td>Oak</td><td>5</td><td>2</td><td>325</td></tr><tr><td>8-Drawer Dresser</td><td>Birch</td><td>6</td><td>1</td><td>750</td></tr><tr><td>48 Bookcase</td><td>Walnut</td><td>7</td><td>3</td><td>150</td></tr><tr><td>48 Bookcase</td><td>Oak</td><td>8</td><td>3</td><td>175</td></tr><tr><td>96 Bookcase</td><td>Walnut</td><td>9</td><td>3</td><td>225</td></tr><tr><td>96 Bookcase</td><td>Oak</td><td>10</td><td>3</td><td>200</td></tr><tr><td>4-Drawer Dresser</td><td>Oak</td><td>11</td><td>1</td><td>500</td></tr><tr><td>8-Drawer Dresser</td><td>Oak</td><td>12</td><td>1</td><td>800</td></tr><tr><td>Nightstand</td><td>Cherry</td><td>13</td><td>1</td><td>150</td></tr><tr><td>Writer's Desk</td><td>Birch</td><td>14</td><td>2</td><td>300</td></tr><tr><td>High Back Leather Chair</td><td>Leather</td><td>17</td><td>3</td><td>362</td></tr><tr><td>6' Grandfather Clock</td><td>Oak</td><td>18</td><td>4</td><td>890</td></tr><tr><td>7' Grandfather Clock</td><td>Oak</td><td>19</td><td>4</td><td>1100</td></tr><tr><td>Amoire</td><td>Walnut</td><td>20</td><td>2</td><td>1200</td></tr><tr><td>Pine End Table</td><td>Pine</td><td>21</td><td>1</td><td>256</td></tr></tbody></table></div>"
            ]
          }
        }
      ],
      "execution_count": null
    },
    {
      "cell_type": "code",
      "source": [
        "%sql\n",
        "SELECT*\n",
        "FROM hw4_customer_json LEFT OUTER JOIN hw4_order_json\n",
        "ON hw4_customer_json.customerID = hw4_order_json.customerID"
      ],
      "metadata": {
        "application/vnd.databricks.v1+cell": {
          "showTitle": false,
          "cellMetadata": {
            "rowLimit": 10000,
            "byteLimit": 2048000,
            "implicitDf": true
          },
          "nuid": "19126a63-708d-4ab7-951a-86e6f68cd762",
          "inputWidgets": {},
          "title": ""
        },
        "id": "g-Kr9FGthETe",
        "outputId": "8d4187b6-07a2-4e57-9b6a-5c02116f1c3f"
      },
      "outputs": [
        {
          "output_type": "display_data",
          "metadata": {
            "application/vnd.databricks.v1+output": {
              "overflow": false,
              "datasetInfos": [],
              "data": [
                [
                  "1355 S Hines Blvd",
                  "Gainesville",
                  1,
                  "Contemporary Casuals",
                  "32601-2871",
                  "FL",
                  1,
                  "2010-11-05",
                  1010
                ],
                [
                  "1355 S Hines Blvd",
                  "Gainesville",
                  1,
                  "Contemporary Casuals",
                  "32601-2871",
                  "FL",
                  1,
                  "2010-10-21",
                  1001
                ],
                [
                  "15145 S.W. 17th St.",
                  "Plano",
                  2,
                  "Value Furniture",
                  "75094-7743",
                  "TX",
                  2,
                  "2010-10-24",
                  1006
                ],
                [
                  "1900 Allard Ave.",
                  "Albany",
                  3,
                  "Home Furnishings",
                  "12209-1125",
                  "NY",
                  3,
                  "2010-10-24",
                  1005
                ],
                [
                  "1925 Beltline Rd.",
                  "Carteret",
                  4,
                  "Eastern Furniture",
                  "07008-3188",
                  "NJ",
                  4,
                  "2010-11-05",
                  1009
                ],
                [
                  "5585 Westcott Ct.",
                  "Sacramento",
                  5,
                  "Impressions",
                  "94206-4056",
                  "CA",
                  5,
                  "2010-10-22",
                  1004
                ],
                [
                  "325 Flatiron Dr.",
                  "Boulder",
                  6,
                  "Furniture Gallery",
                  "80514-4432",
                  "CO",
                  null,
                  null,
                  null
                ],
                [
                  "394 Rainbow Dr.",
                  "Seattle",
                  7,
                  "Period Furniture",
                  "97954-5589",
                  "WA",
                  null,
                  null,
                  null
                ],
                [
                  "816 Peach Rd.",
                  "Santa Clara",
                  8,
                  "California Classics",
                  "96915-7754",
                  "CA",
                  8,
                  "2010-10-21",
                  1002
                ],
                [
                  "3709 First Street",
                  "Clearwater",
                  9,
                  "M and H Casual Furniture",
                  "34620-2314",
                  "FL",
                  null,
                  null,
                  null
                ],
                [
                  "2400 Rocky Point Dr.",
                  "Seminole",
                  10,
                  "Seminole Interiors",
                  "34646-4423",
                  "FL",
                  null,
                  null,
                  null
                ],
                [
                  "2424 Missouri Ave N.",
                  "Prospect Park",
                  11,
                  "American Euro Lifestyles",
                  "07508-5621",
                  "NJ",
                  11,
                  "2010-10-27",
                  1007
                ],
                [
                  "345 Capitol Ave. SW",
                  "Battle Creek",
                  12,
                  "Battle Creek Furniture",
                  "49015-3401",
                  "MI",
                  12,
                  "2010-10-30",
                  1008
                ],
                [
                  "66789 College Ave.",
                  "Carlisle",
                  13,
                  "Heritage Furnishings",
                  "17013-8834",
                  "PA",
                  null,
                  null,
                  null
                ],
                [
                  "112 Kiowai St.",
                  "Kaneohe",
                  14,
                  "Kaneohe Homes",
                  "96744-2537",
                  "HI",
                  null,
                  null,
                  null
                ],
                [
                  "4132 Main Street",
                  "Ogden",
                  15,
                  "Mountain Scenes",
                  "84403-4432",
                  "UT",
                  15,
                  "2010-10-22",
                  1003
                ]
              ],
              "plotOptions": {
                "displayType": "table",
                "customPlotOptions": {},
                "pivotColumns": null,
                "pivotAggregation": null,
                "xColumns": null,
                "yColumns": null
              },
              "columnCustomDisplayInfos": {},
              "aggType": "",
              "isJsonSchema": true,
              "removedWidgets": [],
              "aggSchema": [],
              "schema": [
                {
                  "name": "customerAddress",
                  "type": "\"string\"",
                  "metadata": "{}"
                },
                {
                  "name": "customerCity",
                  "type": "\"string\"",
                  "metadata": "{}"
                },
                {
                  "name": "customerID",
                  "type": "\"long\"",
                  "metadata": "{}"
                },
                {
                  "name": "customerName",
                  "type": "\"string\"",
                  "metadata": "{}"
                },
                {
                  "name": "customerPostalCode",
                  "type": "\"string\"",
                  "metadata": "{}"
                },
                {
                  "name": "customerState",
                  "type": "\"string\"",
                  "metadata": "{}"
                },
                {
                  "name": "customerID",
                  "type": "\"long\"",
                  "metadata": "{}"
                },
                {
                  "name": "orderDate",
                  "type": "\"string\"",
                  "metadata": "{}"
                },
                {
                  "name": "orderID",
                  "type": "\"long\"",
                  "metadata": "{}"
                }
              ],
              "aggError": "",
              "aggData": [],
              "addedWidgets": {},
              "metadata": {},
              "dbfsResultPath": null,
              "type": "table",
              "aggOverflow": false,
              "aggSeriesLimitReached": false,
              "arguments": {}
            }
          },
          "data": {
            "text/html": [
              "<style scoped>\n",
              "  .table-result-container {\n",
              "    max-height: 300px;\n",
              "    overflow: auto;\n",
              "  }\n",
              "  table, th, td {\n",
              "    border: 1px solid black;\n",
              "    border-collapse: collapse;\n",
              "  }\n",
              "  th, td {\n",
              "    padding: 5px;\n",
              "  }\n",
              "  th {\n",
              "    text-align: left;\n",
              "  }\n",
              "</style><div class='table-result-container'><table class='table-result'><thead style='background-color: white'><tr><th>customerAddress</th><th>customerCity</th><th>customerID</th><th>customerName</th><th>customerPostalCode</th><th>customerState</th><th>customerID</th><th>orderDate</th><th>orderID</th></tr></thead><tbody><tr><td>1355 S Hines Blvd</td><td>Gainesville</td><td>1</td><td>Contemporary Casuals</td><td>32601-2871</td><td>FL</td><td>1</td><td>2010-11-05</td><td>1010</td></tr><tr><td>1355 S Hines Blvd</td><td>Gainesville</td><td>1</td><td>Contemporary Casuals</td><td>32601-2871</td><td>FL</td><td>1</td><td>2010-10-21</td><td>1001</td></tr><tr><td>15145 S.W. 17th St.</td><td>Plano</td><td>2</td><td>Value Furniture</td><td>75094-7743</td><td>TX</td><td>2</td><td>2010-10-24</td><td>1006</td></tr><tr><td>1900 Allard Ave.</td><td>Albany</td><td>3</td><td>Home Furnishings</td><td>12209-1125</td><td>NY</td><td>3</td><td>2010-10-24</td><td>1005</td></tr><tr><td>1925 Beltline Rd.</td><td>Carteret</td><td>4</td><td>Eastern Furniture</td><td>07008-3188</td><td>NJ</td><td>4</td><td>2010-11-05</td><td>1009</td></tr><tr><td>5585 Westcott Ct.</td><td>Sacramento</td><td>5</td><td>Impressions</td><td>94206-4056</td><td>CA</td><td>5</td><td>2010-10-22</td><td>1004</td></tr><tr><td>325 Flatiron Dr.</td><td>Boulder</td><td>6</td><td>Furniture Gallery</td><td>80514-4432</td><td>CO</td><td>null</td><td>null</td><td>null</td></tr><tr><td>394 Rainbow Dr.</td><td>Seattle</td><td>7</td><td>Period Furniture</td><td>97954-5589</td><td>WA</td><td>null</td><td>null</td><td>null</td></tr><tr><td>816 Peach Rd.</td><td>Santa Clara</td><td>8</td><td>California Classics</td><td>96915-7754</td><td>CA</td><td>8</td><td>2010-10-21</td><td>1002</td></tr><tr><td>3709 First Street</td><td>Clearwater</td><td>9</td><td>M and H Casual Furniture</td><td>34620-2314</td><td>FL</td><td>null</td><td>null</td><td>null</td></tr><tr><td>2400 Rocky Point Dr.</td><td>Seminole</td><td>10</td><td>Seminole Interiors</td><td>34646-4423</td><td>FL</td><td>null</td><td>null</td><td>null</td></tr><tr><td>2424 Missouri Ave N.</td><td>Prospect Park</td><td>11</td><td>American Euro Lifestyles</td><td>07508-5621</td><td>NJ</td><td>11</td><td>2010-10-27</td><td>1007</td></tr><tr><td>345 Capitol Ave. SW</td><td>Battle Creek</td><td>12</td><td>Battle Creek Furniture</td><td>49015-3401</td><td>MI</td><td>12</td><td>2010-10-30</td><td>1008</td></tr><tr><td>66789 College Ave.</td><td>Carlisle</td><td>13</td><td>Heritage Furnishings</td><td>17013-8834</td><td>PA</td><td>null</td><td>null</td><td>null</td></tr><tr><td>112 Kiowai St.</td><td>Kaneohe</td><td>14</td><td>Kaneohe Homes</td><td>96744-2537</td><td>HI</td><td>null</td><td>null</td><td>null</td></tr><tr><td>4132 Main Street</td><td>Ogden</td><td>15</td><td>Mountain Scenes</td><td>84403-4432</td><td>UT</td><td>15</td><td>2010-10-22</td><td>1003</td></tr></tbody></table></div>"
            ]
          }
        }
      ],
      "execution_count": null
    },
    {
      "cell_type": "code",
      "source": [
        "%sql\n",
        "--what are the finish and description of products that have been ordered in the ascending order of product finish and\n",
        "SELECT DISTINCT p.productFinish, p.productDescription\n",
        "FROM hw4_product_3_json p, hw4_orderline_1_json l\n",
        "WHERE p.productID =l.productID\n",
        "ORDER BY p.productFinish, p.productDescription"
      ],
      "metadata": {
        "application/vnd.databricks.v1+cell": {
          "showTitle": false,
          "cellMetadata": {
            "rowLimit": 10000,
            "byteLimit": 2048000,
            "implicitDf": true
          },
          "nuid": "87e4fbe0-e32d-4479-843e-43f5a48c08d6",
          "inputWidgets": {},
          "title": ""
        },
        "id": "c1UUtZj6hETe",
        "outputId": "ac89f605-95b9-4499-d5d1-d40874816779"
      },
      "outputs": [
        {
          "output_type": "display_data",
          "metadata": {
            "application/vnd.databricks.v1+output": {
              "overflow": false,
              "datasetInfos": [],
              "data": [
                [
                  "Birch",
                  "8-Drawer Dresser"
                ],
                [
                  "Birch",
                  "Birch Coffee Tables"
                ],
                [
                  "Cherry",
                  "Cherry End Table"
                ],
                [
                  "Cherry",
                  "Entertainment Center"
                ],
                [
                  "Oak",
                  "48 Bookcase"
                ],
                [
                  "Oak",
                  "Oak Computer Desk"
                ],
                [
                  "Oak",
                  "Writer's Desk"
                ],
                [
                  "Walnut",
                  "48 Bookcase"
                ]
              ],
              "plotOptions": {
                "displayType": "table",
                "customPlotOptions": {},
                "pivotColumns": null,
                "pivotAggregation": null,
                "xColumns": null,
                "yColumns": null
              },
              "columnCustomDisplayInfos": {},
              "aggType": "",
              "isJsonSchema": true,
              "removedWidgets": [],
              "aggSchema": [],
              "schema": [
                {
                  "name": "productFinish",
                  "type": "\"string\"",
                  "metadata": "{}"
                },
                {
                  "name": "productDescription",
                  "type": "\"string\"",
                  "metadata": "{}"
                }
              ],
              "aggError": "",
              "aggData": [],
              "addedWidgets": {},
              "metadata": {},
              "dbfsResultPath": null,
              "type": "table",
              "aggOverflow": false,
              "aggSeriesLimitReached": false,
              "arguments": {}
            }
          },
          "data": {
            "text/html": [
              "<style scoped>\n",
              "  .table-result-container {\n",
              "    max-height: 300px;\n",
              "    overflow: auto;\n",
              "  }\n",
              "  table, th, td {\n",
              "    border: 1px solid black;\n",
              "    border-collapse: collapse;\n",
              "  }\n",
              "  th, td {\n",
              "    padding: 5px;\n",
              "  }\n",
              "  th {\n",
              "    text-align: left;\n",
              "  }\n",
              "</style><div class='table-result-container'><table class='table-result'><thead style='background-color: white'><tr><th>productFinish</th><th>productDescription</th></tr></thead><tbody><tr><td>Birch</td><td>8-Drawer Dresser</td></tr><tr><td>Birch</td><td>Birch Coffee Tables</td></tr><tr><td>Cherry</td><td>Cherry End Table</td></tr><tr><td>Cherry</td><td>Entertainment Center</td></tr><tr><td>Oak</td><td>48 Bookcase</td></tr><tr><td>Oak</td><td>Oak Computer Desk</td></tr><tr><td>Oak</td><td>Writer's Desk</td></tr><tr><td>Walnut</td><td>48 Bookcase</td></tr></tbody></table></div>"
            ]
          }
        }
      ],
      "execution_count": null
    },
    {
      "cell_type": "code",
      "source": [
        "%sql\n",
        "SELECT DISTINCT p.productFinish, p.productDescription\n",
        "FROM hw4_product_3_json p\n",
        "  JOIN hw4_orderline_1_json l ON p.productID =l.productID\n",
        "ORDER BY p.productFinish, p.productDescription"
      ],
      "metadata": {
        "application/vnd.databricks.v1+cell": {
          "showTitle": false,
          "cellMetadata": {
            "rowLimit": 10000,
            "byteLimit": 2048000,
            "implicitDf": true
          },
          "nuid": "d272b7e8-02ff-4915-8bde-cc4a463fa3f7",
          "inputWidgets": {},
          "title": ""
        },
        "id": "N7nBGyJmhETe",
        "outputId": "1115d235-2c48-41e8-817b-86cba9da7d7e"
      },
      "outputs": [
        {
          "output_type": "display_data",
          "metadata": {
            "application/vnd.databricks.v1+output": {
              "overflow": false,
              "datasetInfos": [],
              "data": [
                [
                  "Birch",
                  "8-Drawer Dresser"
                ],
                [
                  "Birch",
                  "Birch Coffee Tables"
                ],
                [
                  "Cherry",
                  "Cherry End Table"
                ],
                [
                  "Cherry",
                  "Entertainment Center"
                ],
                [
                  "Oak",
                  "48 Bookcase"
                ],
                [
                  "Oak",
                  "Oak Computer Desk"
                ],
                [
                  "Oak",
                  "Writer's Desk"
                ],
                [
                  "Walnut",
                  "48 Bookcase"
                ]
              ],
              "plotOptions": {
                "displayType": "table",
                "customPlotOptions": {},
                "pivotColumns": null,
                "pivotAggregation": null,
                "xColumns": null,
                "yColumns": null
              },
              "columnCustomDisplayInfos": {},
              "aggType": "",
              "isJsonSchema": true,
              "removedWidgets": [],
              "aggSchema": [],
              "schema": [
                {
                  "name": "productFinish",
                  "type": "\"string\"",
                  "metadata": "{}"
                },
                {
                  "name": "productDescription",
                  "type": "\"string\"",
                  "metadata": "{}"
                }
              ],
              "aggError": "",
              "aggData": [],
              "addedWidgets": {},
              "metadata": {},
              "dbfsResultPath": null,
              "type": "table",
              "aggOverflow": false,
              "aggSeriesLimitReached": false,
              "arguments": {}
            }
          },
          "data": {
            "text/html": [
              "<style scoped>\n",
              "  .table-result-container {\n",
              "    max-height: 300px;\n",
              "    overflow: auto;\n",
              "  }\n",
              "  table, th, td {\n",
              "    border: 1px solid black;\n",
              "    border-collapse: collapse;\n",
              "  }\n",
              "  th, td {\n",
              "    padding: 5px;\n",
              "  }\n",
              "  th {\n",
              "    text-align: left;\n",
              "  }\n",
              "</style><div class='table-result-container'><table class='table-result'><thead style='background-color: white'><tr><th>productFinish</th><th>productDescription</th></tr></thead><tbody><tr><td>Birch</td><td>8-Drawer Dresser</td></tr><tr><td>Birch</td><td>Birch Coffee Tables</td></tr><tr><td>Cherry</td><td>Cherry End Table</td></tr><tr><td>Cherry</td><td>Entertainment Center</td></tr><tr><td>Oak</td><td>48 Bookcase</td></tr><tr><td>Oak</td><td>Oak Computer Desk</td></tr><tr><td>Oak</td><td>Writer's Desk</td></tr><tr><td>Walnut</td><td>48 Bookcase</td></tr></tbody></table></div>"
            ]
          }
        }
      ],
      "execution_count": null
    },
    {
      "cell_type": "code",
      "source": [
        "%sql\n",
        "SELECT DISTINCT p.productFinish, p.productDescription\n",
        "FROM hw4_product_3_json p\n",
        "WHERE p.productID IN\n",
        "(SELECT l.productID FROM hw4_orderline_1_json l)\n",
        "ORDER BY p.productFinish, p.productDescription"
      ],
      "metadata": {
        "application/vnd.databricks.v1+cell": {
          "showTitle": false,
          "cellMetadata": {
            "rowLimit": 10000,
            "byteLimit": 2048000,
            "implicitDf": true
          },
          "nuid": "550e33a4-ebf4-4733-8b78-3a8fd8f4e999",
          "inputWidgets": {},
          "title": ""
        },
        "id": "guzB7nZehETe",
        "outputId": "215684a5-8272-456a-df34-e0ad1edebbba"
      },
      "outputs": [
        {
          "output_type": "display_data",
          "metadata": {
            "application/vnd.databricks.v1+output": {
              "overflow": false,
              "datasetInfos": [],
              "data": [
                [
                  "Birch",
                  "8-Drawer Dresser"
                ],
                [
                  "Birch",
                  "Birch Coffee Tables"
                ],
                [
                  "Cherry",
                  "Cherry End Table"
                ],
                [
                  "Cherry",
                  "Entertainment Center"
                ],
                [
                  "Oak",
                  "48 Bookcase"
                ],
                [
                  "Oak",
                  "Oak Computer Desk"
                ],
                [
                  "Oak",
                  "Writer's Desk"
                ],
                [
                  "Walnut",
                  "48 Bookcase"
                ]
              ],
              "plotOptions": {
                "displayType": "table",
                "customPlotOptions": {},
                "pivotColumns": null,
                "pivotAggregation": null,
                "xColumns": null,
                "yColumns": null
              },
              "columnCustomDisplayInfos": {},
              "aggType": "",
              "isJsonSchema": true,
              "removedWidgets": [],
              "aggSchema": [],
              "schema": [
                {
                  "name": "productFinish",
                  "type": "\"string\"",
                  "metadata": "{}"
                },
                {
                  "name": "productDescription",
                  "type": "\"string\"",
                  "metadata": "{}"
                }
              ],
              "aggError": "",
              "aggData": [],
              "addedWidgets": {},
              "metadata": {},
              "dbfsResultPath": null,
              "type": "table",
              "aggOverflow": false,
              "aggSeriesLimitReached": false,
              "arguments": {}
            }
          },
          "data": {
            "text/html": [
              "<style scoped>\n",
              "  .table-result-container {\n",
              "    max-height: 300px;\n",
              "    overflow: auto;\n",
              "  }\n",
              "  table, th, td {\n",
              "    border: 1px solid black;\n",
              "    border-collapse: collapse;\n",
              "  }\n",
              "  th, td {\n",
              "    padding: 5px;\n",
              "  }\n",
              "  th {\n",
              "    text-align: left;\n",
              "  }\n",
              "</style><div class='table-result-container'><table class='table-result'><thead style='background-color: white'><tr><th>productFinish</th><th>productDescription</th></tr></thead><tbody><tr><td>Birch</td><td>8-Drawer Dresser</td></tr><tr><td>Birch</td><td>Birch Coffee Tables</td></tr><tr><td>Cherry</td><td>Cherry End Table</td></tr><tr><td>Cherry</td><td>Entertainment Center</td></tr><tr><td>Oak</td><td>48 Bookcase</td></tr><tr><td>Oak</td><td>Oak Computer Desk</td></tr><tr><td>Oak</td><td>Writer's Desk</td></tr><tr><td>Walnut</td><td>48 Bookcase</td></tr></tbody></table></div>"
            ]
          }
        }
      ],
      "execution_count": null
    },
    {
      "cell_type": "code",
      "source": [
        "%python\n",
        "sp_product = spark.read.table('hw4_product_3_json')\n",
        "sp_orderline = spark.read.table('hw4_orderline_1_json')"
      ],
      "metadata": {
        "application/vnd.databricks.v1+cell": {
          "showTitle": false,
          "cellMetadata": {
            "rowLimit": 10000,
            "byteLimit": 2048000
          },
          "nuid": "db88f3a7-b5fd-4981-b72a-6d21ca380faa",
          "inputWidgets": {},
          "title": ""
        },
        "id": "VQj-ZZF7hETf"
      },
      "outputs": [],
      "execution_count": null
    },
    {
      "cell_type": "code",
      "source": [
        "%python\n",
        "sp_product.join(sp_orderline,'productID')\\\n",
        "    .select('productFinish','productDescription').distinct()\\\n",
        "    .orderBy('productFinish').show()"
      ],
      "metadata": {
        "application/vnd.databricks.v1+cell": {
          "showTitle": false,
          "cellMetadata": {
            "rowLimit": 10000,
            "byteLimit": 2048000
          },
          "nuid": "afa7cf24-c112-4a90-88ac-f57cd1cc43d4",
          "inputWidgets": {},
          "title": ""
        },
        "id": "L-TJAXrrhETf",
        "outputId": "8229af90-a610-4fa4-dd1d-dc7c2f5c7634"
      },
      "outputs": [
        {
          "output_type": "stream",
          "name": "stdout",
          "text": [
            "+-------------+--------------------+\n|productFinish|  productDescription|\n+-------------+--------------------+\n|        Birch| Birch Coffee Tables|\n|        Birch|    8-Drawer Dresser|\n|       Cherry|Entertainment Center|\n|       Cherry|    Cherry End Table|\n|          Oak|         48 Bookcase|\n|          Oak|   Oak Computer Desk|\n|          Oak|       Writer's Desk|\n|       Walnut|         48 Bookcase|\n+-------------+--------------------+\n\n"
          ]
        }
      ],
      "execution_count": null
    },
    {
      "cell_type": "code",
      "source": [
        "%sql\n",
        "--what are the product finish ordered by each customer by showing customer name\n",
        "SELECT DISTINCT c.customerName, p.productFinish\n",
        "FROM\n",
        "hw4_product_3_json p, hw4_customer_json c, hw4_order_json o, hw4_orderline_1_json l\n",
        "WHERE\n",
        "p.productID = l.productID AND\n",
        "o.customerID = c.customerID AND\n",
        "o.orderID = l.orderID\n",
        "ORDER BY c.customerName, p.productFinish"
      ],
      "metadata": {
        "application/vnd.databricks.v1+cell": {
          "showTitle": false,
          "cellMetadata": {
            "rowLimit": 10000,
            "byteLimit": 2048000,
            "implicitDf": true
          },
          "nuid": "b5ed06ee-cf8d-45d8-b38c-feb2c5170690",
          "inputWidgets": {},
          "title": ""
        },
        "id": "i7vjA9tBhETf",
        "outputId": "b7a4da5d-9848-49a4-a7b4-94937e2324ad"
      },
      "outputs": [
        {
          "output_type": "display_data",
          "metadata": {
            "application/vnd.databricks.v1+output": {
              "overflow": false,
              "datasetInfos": [],
              "data": [
                [
                  "American Euro Lifestyles",
                  "Birch"
                ],
                [
                  "American Euro Lifestyles",
                  "Cherry"
                ],
                [
                  "Battle Creek Furniture",
                  "Oak"
                ],
                [
                  "California Classics",
                  "Oak"
                ],
                [
                  "Contemporary Casuals",
                  "Birch"
                ],
                [
                  "Contemporary Casuals",
                  "Cherry"
                ],
                [
                  "Contemporary Casuals",
                  "Oak"
                ],
                [
                  "Eastern Furniture",
                  "Cherry"
                ],
                [
                  "Eastern Furniture",
                  "Walnut"
                ],
                [
                  "Home Furnishings",
                  "Cherry"
                ],
                [
                  "Impressions",
                  "Birch"
                ],
                [
                  "Impressions",
                  "Oak"
                ],
                [
                  "Mountain Scenes",
                  "Oak"
                ],
                [
                  "Value Furniture",
                  "Cherry"
                ],
                [
                  "Value Furniture",
                  "Oak"
                ],
                [
                  "Value Furniture",
                  "Walnut"
                ]
              ],
              "plotOptions": {
                "displayType": "table",
                "customPlotOptions": {},
                "pivotColumns": null,
                "pivotAggregation": null,
                "xColumns": null,
                "yColumns": null
              },
              "columnCustomDisplayInfos": {},
              "aggType": "",
              "isJsonSchema": true,
              "removedWidgets": [],
              "aggSchema": [],
              "schema": [
                {
                  "name": "customerName",
                  "type": "\"string\"",
                  "metadata": "{}"
                },
                {
                  "name": "productFinish",
                  "type": "\"string\"",
                  "metadata": "{}"
                }
              ],
              "aggError": "",
              "aggData": [],
              "addedWidgets": {},
              "metadata": {},
              "dbfsResultPath": null,
              "type": "table",
              "aggOverflow": false,
              "aggSeriesLimitReached": false,
              "arguments": {}
            }
          },
          "data": {
            "text/html": [
              "<style scoped>\n",
              "  .table-result-container {\n",
              "    max-height: 300px;\n",
              "    overflow: auto;\n",
              "  }\n",
              "  table, th, td {\n",
              "    border: 1px solid black;\n",
              "    border-collapse: collapse;\n",
              "  }\n",
              "  th, td {\n",
              "    padding: 5px;\n",
              "  }\n",
              "  th {\n",
              "    text-align: left;\n",
              "  }\n",
              "</style><div class='table-result-container'><table class='table-result'><thead style='background-color: white'><tr><th>customerName</th><th>productFinish</th></tr></thead><tbody><tr><td>American Euro Lifestyles</td><td>Birch</td></tr><tr><td>American Euro Lifestyles</td><td>Cherry</td></tr><tr><td>Battle Creek Furniture</td><td>Oak</td></tr><tr><td>California Classics</td><td>Oak</td></tr><tr><td>Contemporary Casuals</td><td>Birch</td></tr><tr><td>Contemporary Casuals</td><td>Cherry</td></tr><tr><td>Contemporary Casuals</td><td>Oak</td></tr><tr><td>Eastern Furniture</td><td>Cherry</td></tr><tr><td>Eastern Furniture</td><td>Walnut</td></tr><tr><td>Home Furnishings</td><td>Cherry</td></tr><tr><td>Impressions</td><td>Birch</td></tr><tr><td>Impressions</td><td>Oak</td></tr><tr><td>Mountain Scenes</td><td>Oak</td></tr><tr><td>Value Furniture</td><td>Cherry</td></tr><tr><td>Value Furniture</td><td>Oak</td></tr><tr><td>Value Furniture</td><td>Walnut</td></tr></tbody></table></div>"
            ]
          }
        }
      ],
      "execution_count": null
    },
    {
      "cell_type": "code",
      "source": [
        "%sql\n",
        "SELECT DISTINCT p.productFinish, p.productDescription\n",
        "FROM hw4_product_3_json p, hw4_orderline_1_json o\n",
        "WHERE\n",
        "p.productID = o.productID\n",
        "ORDER BY p.productFinish, p.productDescription"
      ],
      "metadata": {
        "application/vnd.databricks.v1+cell": {
          "showTitle": false,
          "cellMetadata": {
            "rowLimit": 10000,
            "byteLimit": 2048000,
            "implicitDf": true
          },
          "nuid": "349c0012-45f5-4f14-9fc2-3689ac9351d9",
          "inputWidgets": {},
          "title": ""
        },
        "id": "mX3CxW9RhETf",
        "outputId": "553e7266-ade5-4e8a-9417-94d847cf4b5c"
      },
      "outputs": [
        {
          "output_type": "display_data",
          "metadata": {
            "application/vnd.databricks.v1+output": {
              "overflow": false,
              "datasetInfos": [],
              "data": [
                [
                  "Birch",
                  "8-Drawer Dresser"
                ],
                [
                  "Birch",
                  "Birch Coffee Tables"
                ],
                [
                  "Cherry",
                  "Cherry End Table"
                ],
                [
                  "Cherry",
                  "Entertainment Center"
                ],
                [
                  "Oak",
                  "48 Bookcase"
                ],
                [
                  "Oak",
                  "Oak Computer Desk"
                ],
                [
                  "Oak",
                  "Writer's Desk"
                ],
                [
                  "Walnut",
                  "48 Bookcase"
                ]
              ],
              "plotOptions": {
                "displayType": "table",
                "customPlotOptions": {},
                "pivotColumns": null,
                "pivotAggregation": null,
                "xColumns": null,
                "yColumns": null
              },
              "columnCustomDisplayInfos": {},
              "aggType": "",
              "isJsonSchema": true,
              "removedWidgets": [],
              "aggSchema": [],
              "schema": [
                {
                  "name": "productFinish",
                  "type": "\"string\"",
                  "metadata": "{}"
                },
                {
                  "name": "productDescription",
                  "type": "\"string\"",
                  "metadata": "{}"
                }
              ],
              "aggError": "",
              "aggData": [],
              "addedWidgets": {},
              "metadata": {},
              "dbfsResultPath": null,
              "type": "table",
              "aggOverflow": false,
              "aggSeriesLimitReached": false,
              "arguments": {}
            }
          },
          "data": {
            "text/html": [
              "<style scoped>\n",
              "  .table-result-container {\n",
              "    max-height: 300px;\n",
              "    overflow: auto;\n",
              "  }\n",
              "  table, th, td {\n",
              "    border: 1px solid black;\n",
              "    border-collapse: collapse;\n",
              "  }\n",
              "  th, td {\n",
              "    padding: 5px;\n",
              "  }\n",
              "  th {\n",
              "    text-align: left;\n",
              "  }\n",
              "</style><div class='table-result-container'><table class='table-result'><thead style='background-color: white'><tr><th>productFinish</th><th>productDescription</th></tr></thead><tbody><tr><td>Birch</td><td>8-Drawer Dresser</td></tr><tr><td>Birch</td><td>Birch Coffee Tables</td></tr><tr><td>Cherry</td><td>Cherry End Table</td></tr><tr><td>Cherry</td><td>Entertainment Center</td></tr><tr><td>Oak</td><td>48 Bookcase</td></tr><tr><td>Oak</td><td>Oak Computer Desk</td></tr><tr><td>Oak</td><td>Writer's Desk</td></tr><tr><td>Walnut</td><td>48 Bookcase</td></tr></tbody></table></div>"
            ]
          }
        }
      ],
      "execution_count": null
    },
    {
      "cell_type": "code",
      "source": [
        "%python\n",
        "sp_customer = spark.read.table('hw4_customer_json')\n",
        "sp_order = spark.read.table('hw4_order_json')"
      ],
      "metadata": {
        "application/vnd.databricks.v1+cell": {
          "showTitle": false,
          "cellMetadata": {
            "rowLimit": 10000,
            "byteLimit": 2048000
          },
          "nuid": "15e74207-f7da-4e90-af18-569536d8b22b",
          "inputWidgets": {},
          "title": ""
        },
        "id": "MZtT5WzHhETf"
      },
      "outputs": [],
      "execution_count": null
    },
    {
      "cell_type": "code",
      "source": [
        "%python\n",
        "sp_customer.join(sp_order, 'customerID')\\\n",
        "    .select('customerName','orderID')\\\n",
        "    .join(sp_orderline,'orderID')\\\n",
        "    .select('customerName','productID')\\\n",
        "    .join(sp_product,'productID')\\\n",
        "    .select('customerName','productFinish')\\\n",
        "    .orderBy('customerName','productFinish').show()"
      ],
      "metadata": {
        "application/vnd.databricks.v1+cell": {
          "showTitle": false,
          "cellMetadata": {
            "rowLimit": 10000,
            "byteLimit": 2048000
          },
          "nuid": "a22745b2-0821-489d-a3c6-db10cbd240fa",
          "inputWidgets": {},
          "title": ""
        },
        "id": "dA8Kjgg1hETg",
        "outputId": "308892da-e653-4a4f-d704-ea2483b30e64"
      },
      "outputs": [
        {
          "output_type": "stream",
          "name": "stdout",
          "text": [
            "+--------------------+-------------+\n|        customerName|productFinish|\n+--------------------+-------------+\n|American Euro Lif...|        Birch|\n|American Euro Lif...|       Cherry|\n|Battle Creek Furn...|          Oak|\n|Battle Creek Furn...|          Oak|\n| California Classics|          Oak|\n|Contemporary Casuals|        Birch|\n|Contemporary Casuals|       Cherry|\n|Contemporary Casuals|       Cherry|\n|Contemporary Casuals|          Oak|\n|   Eastern Furniture|       Cherry|\n|   Eastern Furniture|       Walnut|\n|    Home Furnishings|       Cherry|\n|         Impressions|        Birch|\n|         Impressions|          Oak|\n|     Mountain Scenes|          Oak|\n|     Value Furniture|       Cherry|\n|     Value Furniture|          Oak|\n|     Value Furniture|       Walnut|\n+--------------------+-------------+\n\n"
          ]
        }
      ],
      "execution_count": null
    }
  ],
  "metadata": {
    "application/vnd.databricks.v1+notebook": {
      "notebookName": "Act8_Mahadevan Cheeroth_Sreerag",
      "dashboards": [],
      "notebookMetadata": {
        "pythonIndentUnit": 4,
        "mostRecentlyExecutedCommandWithImplicitDF": {
          "commandId": 3115092705199687,
          "dataframes": [
            "_sqldf"
          ]
        }
      },
      "language": "python",
      "widgets": {},
      "notebookOrigID": 3115092705199676
    },
    "colab": {
      "provenance": []
    }
  },
  "nbformat": 4,
  "nbformat_minor": 0
}